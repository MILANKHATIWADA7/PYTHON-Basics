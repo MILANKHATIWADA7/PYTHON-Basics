{
 "cells": [
  {
   "cell_type": "code",
   "execution_count": 10,
   "id": "91b484f0",
   "metadata": {},
   "outputs": [],
   "source": [
    "a = ('hello world')"
   ]
  },
  {
   "cell_type": "code",
   "execution_count": 11,
   "id": "2372bd44",
   "metadata": {},
   "outputs": [
    {
     "data": {
      "text/plain": [
       "'hello world'"
      ]
     },
     "execution_count": 11,
     "metadata": {},
     "output_type": "execute_result"
    }
   ],
   "source": [
    "a"
   ]
  },
  {
   "cell_type": "code",
   "execution_count": 12,
   "id": "74315e0b",
   "metadata": {},
   "outputs": [],
   "source": [
    "binita = 0"
   ]
  },
  {
   "cell_type": "code",
   "execution_count": 13,
   "id": "db001ff4",
   "metadata": {},
   "outputs": [
    {
     "name": "stdout",
     "output_type": "stream",
     "text": [
      "0\n"
     ]
    }
   ],
   "source": [
    "print(binita)"
   ]
  },
  {
   "cell_type": "code",
   "execution_count": 15,
   "id": "1a7858ba",
   "metadata": {},
   "outputs": [],
   "source": [
    "# a = b = c \n",
    "# a = c"
   ]
  },
  {
   "cell_type": "code",
   "execution_count": 16,
   "id": "115885bb",
   "metadata": {},
   "outputs": [],
   "source": [
    "a = 2+3\n"
   ]
  },
  {
   "cell_type": "code",
   "execution_count": 17,
   "id": "47e2b801",
   "metadata": {},
   "outputs": [
    {
     "name": "stdout",
     "output_type": "stream",
     "text": [
      "5\n"
     ]
    }
   ],
   "source": [
    "print(a)"
   ]
  },
  {
   "cell_type": "code",
   "execution_count": 29,
   "id": "0b8e1d15",
   "metadata": {},
   "outputs": [],
   "source": [
    "binita = 100"
   ]
  },
  {
   "cell_type": "code",
   "execution_count": 30,
   "id": "bc86cef6",
   "metadata": {},
   "outputs": [
    {
     "name": "stdout",
     "output_type": "stream",
     "text": [
      "100\n"
     ]
    }
   ],
   "source": [
    "print(binita)"
   ]
  },
  {
   "cell_type": "code",
   "execution_count": 31,
   "id": "5db454ce",
   "metadata": {},
   "outputs": [],
   "source": [
    "milan = binita + 10"
   ]
  },
  {
   "cell_type": "code",
   "execution_count": 32,
   "id": "9cba91ff",
   "metadata": {},
   "outputs": [
    {
     "data": {
      "text/plain": [
       "110"
      ]
     },
     "execution_count": 32,
     "metadata": {},
     "output_type": "execute_result"
    }
   ],
   "source": [
    "milan "
   ]
  },
  {
   "cell_type": "code",
   "execution_count": 36,
   "id": "10465892",
   "metadata": {},
   "outputs": [],
   "source": [
    "a = 100\n",
    "b = 50\n",
    "c = 40"
   ]
  },
  {
   "cell_type": "code",
   "execution_count": 37,
   "id": "3c77d051",
   "metadata": {},
   "outputs": [],
   "source": [
    "d = a + b + c"
   ]
  },
  {
   "cell_type": "code",
   "execution_count": 43,
   "id": "222a0b45",
   "metadata": {},
   "outputs": [
    {
     "name": "stdout",
     "output_type": "stream",
     "text": [
      "190\n"
     ]
    }
   ],
   "source": [
    "print(d)"
   ]
  },
  {
   "cell_type": "code",
   "execution_count": null,
   "id": "4be60389",
   "metadata": {},
   "outputs": [],
   "source": []
  }
 ],
 "metadata": {
  "kernelspec": {
   "display_name": "Python 3 (ipykernel)",
   "language": "python",
   "name": "python3"
  },
  "language_info": {
   "codemirror_mode": {
    "name": "ipython",
    "version": 3
   },
   "file_extension": ".py",
   "mimetype": "text/x-python",
   "name": "python",
   "nbconvert_exporter": "python",
   "pygments_lexer": "ipython3",
   "version": "3.10.9"
  }
 },
 "nbformat": 4,
 "nbformat_minor": 5
}
